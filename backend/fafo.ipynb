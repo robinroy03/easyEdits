{
 "cells": [
  {
   "cell_type": "code",
   "execution_count": 3,
   "metadata": {},
   "outputs": [
    {
     "name": "stdout",
     "output_type": "stream",
     "text": [
      "Collecting fastapi\n",
      "  Downloading fastapi-0.115.11-py3-none-any.whl.metadata (27 kB)\n",
      "Collecting google-genai\n",
      "  Downloading google_genai-1.4.0-py3-none-any.whl.metadata (29 kB)\n",
      "Collecting starlette<0.47.0,>=0.40.0 (from fastapi)\n",
      "  Downloading starlette-0.46.0-py3-none-any.whl.metadata (6.2 kB)\n",
      "Requirement already satisfied: pydantic!=1.8,!=1.8.1,!=2.0.0,!=2.0.1,!=2.1.0,<3.0.0,>=1.7.4 in c:\\users\\robin roy\\appdata\\local\\programs\\python\\python312\\lib\\site-packages (from fastapi) (2.4.2)\n",
      "Requirement already satisfied: typing-extensions>=4.8.0 in c:\\users\\robin roy\\appdata\\local\\programs\\python\\python312\\lib\\site-packages (from fastapi) (4.8.0)\n",
      "Requirement already satisfied: google-auth<3.0.0dev,>=2.14.1 in c:\\users\\robin roy\\appdata\\local\\programs\\python\\python312\\lib\\site-packages (from google-genai) (2.28.1)\n",
      "Collecting httpx<1.0.0dev,>=0.28.1 (from google-genai)\n",
      "  Using cached httpx-0.28.1-py3-none-any.whl.metadata (7.1 kB)\n",
      "Requirement already satisfied: requests<3.0.0dev,>=2.28.1 in c:\\users\\robin roy\\appdata\\local\\programs\\python\\python312\\lib\\site-packages (from google-genai) (2.31.0)\n",
      "Collecting websockets<15.0dev,>=13.0 (from google-genai)\n",
      "  Using cached websockets-14.2-cp312-cp312-win_amd64.whl.metadata (7.0 kB)\n",
      "Collecting typing-extensions>=4.8.0 (from fastapi)\n",
      "  Using cached typing_extensions-4.12.2-py3-none-any.whl.metadata (3.0 kB)\n",
      "Requirement already satisfied: cachetools<6.0,>=2.0.0 in c:\\users\\robin roy\\appdata\\local\\programs\\python\\python312\\lib\\site-packages (from google-auth<3.0.0dev,>=2.14.1->google-genai) (5.3.3)\n",
      "Requirement already satisfied: pyasn1-modules>=0.2.1 in c:\\users\\robin roy\\appdata\\local\\programs\\python\\python312\\lib\\site-packages (from google-auth<3.0.0dev,>=2.14.1->google-genai) (0.3.0)\n",
      "Requirement already satisfied: rsa<5,>=3.1.4 in c:\\users\\robin roy\\appdata\\local\\programs\\python\\python312\\lib\\site-packages (from google-auth<3.0.0dev,>=2.14.1->google-genai) (4.9)\n",
      "Requirement already satisfied: anyio in c:\\users\\robin roy\\appdata\\local\\programs\\python\\python312\\lib\\site-packages (from httpx<1.0.0dev,>=0.28.1->google-genai) (3.7.1)\n",
      "Requirement already satisfied: certifi in c:\\users\\robin roy\\appdata\\local\\programs\\python\\python312\\lib\\site-packages (from httpx<1.0.0dev,>=0.28.1->google-genai) (2024.2.2)\n",
      "Requirement already satisfied: httpcore==1.* in c:\\users\\robin roy\\appdata\\local\\programs\\python\\python312\\lib\\site-packages (from httpx<1.0.0dev,>=0.28.1->google-genai) (1.0.1)\n",
      "Requirement already satisfied: idna in c:\\users\\robin roy\\appdata\\local\\programs\\python\\python312\\lib\\site-packages (from httpx<1.0.0dev,>=0.28.1->google-genai) (3.6)\n",
      "Requirement already satisfied: h11<0.15,>=0.13 in c:\\users\\robin roy\\appdata\\local\\programs\\python\\python312\\lib\\site-packages (from httpcore==1.*->httpx<1.0.0dev,>=0.28.1->google-genai) (0.14.0)\n",
      "Requirement already satisfied: annotated-types>=0.4.0 in c:\\users\\robin roy\\appdata\\local\\programs\\python\\python312\\lib\\site-packages (from pydantic!=1.8,!=1.8.1,!=2.0.0,!=2.0.1,!=2.1.0,<3.0.0,>=1.7.4->fastapi) (0.6.0)\n",
      "Requirement already satisfied: pydantic-core==2.10.1 in c:\\users\\robin roy\\appdata\\local\\programs\\python\\python312\\lib\\site-packages (from pydantic!=1.8,!=1.8.1,!=2.0.0,!=2.0.1,!=2.1.0,<3.0.0,>=1.7.4->fastapi) (2.10.1)\n",
      "Requirement already satisfied: charset-normalizer<4,>=2 in c:\\users\\robin roy\\appdata\\local\\programs\\python\\python312\\lib\\site-packages (from requests<3.0.0dev,>=2.28.1->google-genai) (3.3.2)\n",
      "Requirement already satisfied: urllib3<3,>=1.21.1 in c:\\users\\robin roy\\appdata\\local\\programs\\python\\python312\\lib\\site-packages (from requests<3.0.0dev,>=2.28.1->google-genai) (2.2.1)\n",
      "Requirement already satisfied: sniffio>=1.1 in c:\\users\\robin roy\\appdata\\local\\programs\\python\\python312\\lib\\site-packages (from anyio->httpx<1.0.0dev,>=0.28.1->google-genai) (1.3.0)\n",
      "Requirement already satisfied: pyasn1<0.6.0,>=0.4.6 in c:\\users\\robin roy\\appdata\\local\\programs\\python\\python312\\lib\\site-packages (from pyasn1-modules>=0.2.1->google-auth<3.0.0dev,>=2.14.1->google-genai) (0.5.1)\n",
      "Downloading fastapi-0.115.11-py3-none-any.whl (94 kB)\n",
      "   ---------------------------------------- 0.0/94.9 kB ? eta -:--:--\n",
      "   ------------ --------------------------- 30.7/94.9 kB ? eta -:--:--\n",
      "   ----------------- ---------------------- 41.0/94.9 kB 991.0 kB/s eta 0:00:01\n",
      "   ------------------------- -------------- 61.4/94.9 kB 469.7 kB/s eta 0:00:01\n",
      "   ---------------------------------------- 94.9/94.9 kB 600.6 kB/s eta 0:00:00\n",
      "Downloading google_genai-1.4.0-py3-none-any.whl (140 kB)\n",
      "   ---------------------------------------- 0.0/141.0 kB ? eta -:--:--\n",
      "   ----------------------- ---------------- 81.9/141.0 kB 4.8 MB/s eta 0:00:01\n",
      "   ------------------------------- -------- 112.6/141.0 kB 3.3 MB/s eta 0:00:01\n",
      "   ---------------------------------------- 141.0/141.0 kB 1.2 MB/s eta 0:00:00\n",
      "Using cached httpx-0.28.1-py3-none-any.whl (73 kB)\n",
      "Downloading starlette-0.46.0-py3-none-any.whl (71 kB)\n",
      "   ---------------------------------------- 0.0/72.0 kB ? eta -:--:--\n",
      "   ---------------------------------------- 72.0/72.0 kB 3.9 MB/s eta 0:00:00\n",
      "Using cached typing_extensions-4.12.2-py3-none-any.whl (37 kB)\n",
      "Using cached websockets-14.2-cp312-cp312-win_amd64.whl (164 kB)\n",
      "Installing collected packages: websockets, typing-extensions, starlette, httpx, google-genai, fastapi\n",
      "  Attempting uninstall: typing-extensions\n",
      "    Found existing installation: typing_extensions 4.8.0\n",
      "    Uninstalling typing_extensions-4.8.0:\n",
      "      Successfully uninstalled typing_extensions-4.8.0\n",
      "  Attempting uninstall: httpx\n",
      "    Found existing installation: httpx 0.25.1\n",
      "    Uninstalling httpx-0.25.1:\n",
      "      Successfully uninstalled httpx-0.25.1\n",
      "Successfully installed fastapi-0.115.11 google-genai-1.4.0 httpx-0.28.1 starlette-0.46.0 typing-extensions-4.12.2 websockets-14.2\n"
     ]
    },
    {
     "name": "stderr",
     "output_type": "stream",
     "text": [
      "\n",
      "[notice] A new release of pip is available: 24.0 -> 25.0.1\n",
      "[notice] To update, run: python.exe -m pip install --upgrade pip\n"
     ]
    }
   ],
   "source": [
    "!pip install fastapi google-genai"
   ]
  },
  {
   "cell_type": "code",
   "execution_count": 1,
   "metadata": {},
   "outputs": [],
   "source": [
    "# from fastapi import FastAPI, File, UploadFile\n",
    "from fastapi.middleware.cors import CORSMiddleware\n",
    "from google import genai\n",
    "from google.genai import types\n",
    "import shutil\n",
    "from dotenv import load_dotenv\n",
    "import os\n",
    "from pydantic import BaseModel"
   ]
  },
  {
   "cell_type": "code",
   "execution_count": 2,
   "metadata": {},
   "outputs": [
    {
     "data": {
      "text/plain": [
       "True"
      ]
     },
     "execution_count": 2,
     "metadata": {},
     "output_type": "execute_result"
    }
   ],
   "source": [
    "load_dotenv()"
   ]
  },
  {
   "cell_type": "code",
   "execution_count": 3,
   "metadata": {},
   "outputs": [],
   "source": [
    "client = genai.Client(api_key=os.getenv(\"GEMINI_API_KEY\"))"
   ]
  },
  {
   "cell_type": "code",
   "execution_count": 24,
   "metadata": {},
   "outputs": [],
   "source": [
    "import subprocess\n",
    "\n",
    "def ffmpeg_runner(ffmpeg_code: str):\n",
    "    \"\"\"\n",
    "    Runs an FFmpeg command and prints output in real-time.\n",
    "    \"\"\"\n",
    "    try:\n",
    "        process = subprocess.run(\n",
    "            ffmpeg_code, \n",
    "            shell=True, \n",
    "            check=True, \n",
    "            stdout=subprocess.PIPE,  # Capture standard output\n",
    "            stderr=subprocess.STDOUT,  # Capture errors in the same stream\n",
    "            text=True  # Ensure output is treated as text (not bytes)\n",
    "        )\n",
    "        \n",
    "        print(process.stdout)  # Print FFmpeg output\n",
    "        return True\n",
    "    except subprocess.CalledProcessError as e:\n",
    "        print(f\"FFmpeg failed with error:\\n{e.output}\")\n",
    "        return False"
   ]
  },
  {
   "cell_type": "code",
   "execution_count": 25,
   "metadata": {},
   "outputs": [],
   "source": [
    "SYSTEM_INSTRUCTION = \"\"\"\n",
    "Write ffmpeg code for the queries given. The files are inside `../files/upload`. Save the file inside `../files/edit` as meow.mp4.\n",
    "\n",
    "example code: ffmpeg -i input1.mp4 -i input2.mp4 -filter_complex \"[0:v:0][0:a:0][1:v:0][1:a:0]concat=n=2:v=1:a=1[outv][outa]\" -map \"[outv]\" -map \"[outa]\" output.mp4\n",
    "\"\"\"\n",
    "\n",
    "chat = client.chats.create(\n",
    "    model=\"gemini-2.0-flash\",\n",
    "    config=types.GenerateContentConfig(\n",
    "        system_instruction=SYSTEM_INSTRUCTION,\n",
    "        tools=[ffmpeg_runner],\n",
    "        \n",
    "    ),\n",
    ")"
   ]
  },
  {
   "cell_type": "code",
   "execution_count": 62,
   "metadata": {},
   "outputs": [
    {
     "name": "stdout",
     "output_type": "stream",
     "text": [
      "ffmpeg version N-118616-g3e9777dc75-20250304 Copyright (c) 2000-2025 the FFmpeg developers\n",
      "  built with gcc 14.2.0 (crosstool-NG 1.27.0.18_7458341)\n",
      "  configuration: --prefix=/ffbuild/prefix --pkg-config-flags=--static --pkg-config=pkg-config --cross-prefix=x86_64-w64-mingw32- --arch=x86_64 --target-os=mingw32 --enable-gpl --enable-version3 --disable-debug --disable-w32threads --enable-pthreads --enable-iconv --enable-zlib --enable-libfreetype --enable-libfribidi --enable-gmp --enable-libxml2 --enable-lzma --enable-fontconfig --enable-libharfbuzz --enable-libvorbis --enable-opencl --disable-libpulse --enable-libvmaf --disable-libxcb --disable-xlib --enable-amf --enable-libaom --enable-libaribb24 --enable-avisynth --enable-chromaprint --enable-libdav1d --enable-libdavs2 --enable-libdvdread --enable-libdvdnav --disable-libfdk-aac --enable-ffnvcodec --enable-cuda-llvm --enable-frei0r --enable-libgme --enable-libkvazaar --enable-libaribcaption --enable-libass --enable-libbluray --enable-libjxl --enable-libmp3lame --enable-libopus --enable-librist --enable-libssh --enable-libtheora --enable-libvpx --enable-libwebp --enable-libzmq --enable-lv2 --enable-libvpl --enable-openal --enable-libopencore-amrnb --enable-libopencore-amrwb --enable-libopenh264 --enable-libopenjpeg --enable-libopenmpt --enable-librav1e --enable-librubberband --enable-schannel --enable-sdl2 --enable-libsnappy --enable-libsoxr --enable-libsrt --enable-libsvtav1 --enable-libtwolame --enable-libuavs3d --disable-libdrm --enable-vaapi --enable-libvidstab --enable-vulkan --enable-libshaderc --enable-libplacebo --disable-libvvenc --enable-libx264 --enable-libx265 --enable-libxavs2 --enable-libxvid --enable-libzimg --enable-libzvbi --extra-cflags=-DLIBTWOLAME_STATIC --extra-cxxflags= --extra-libs=-lgomp --extra-ldflags=-pthread --extra-ldexeflags= --cc=x86_64-w64-mingw32-gcc --cxx=x86_64-w64-mingw32-g++ --ar=x86_64-w64-mingw32-gcc-ar --ranlib=x86_64-w64-mingw32-gcc-ranlib --nm=x86_64-w64-mingw32-gcc-nm --extra-version=20250304\n",
      "  libavutil      59. 58.100 / 59. 58.100\n",
      "  libavcodec     61. 33.102 / 61. 33.102\n",
      "  libavformat    61.  9.107 / 61.  9.107\n",
      "  libavdevice    61.  4.100 / 61.  4.100\n",
      "  libavfilter    10.  9.100 / 10.  9.100\n",
      "  libswscale      8. 13.100 /  8. 13.100\n",
      "  libswresample   5.  4.100 /  5.  4.100\n",
      "  libpostproc    58.  4.100 / 58.  4.100\n",
      "Input #0, mov,mp4,m4a,3gp,3g2,mj2, from '../files/upload/overlay.mp4':\n",
      "  Metadata:\n",
      "    major_brand     : isom\n",
      "    minor_version   : 512\n",
      "    compatible_brands: isomiso2avc1mp41\n",
      "    encoder         : Lavf61.9.107\n",
      "  Duration: 00:00:05.01, start: 0.000000, bitrate: 508 kb/s\n",
      "  Stream #0:0[0x1](und): Video: h264 (High) (avc1 / 0x31637661), yuv420p(progressive), 1920x1080 [SAR 1:1 DAR 16:9], 496 kb/s, 30 fps, 30 tbr, 15360 tbn (default)\n",
      "    Metadata:\n",
      "      handler_name    : VideoHandler\n",
      "      vendor_id       : [0][0][0][0]\n",
      "      encoder         : Lavc61.33.102 libx264\n",
      "  Stream #0:1[0x2](und): Audio: aac (LC) (mp4a / 0x6134706D), 44100 Hz, stereo, fltp, 2 kb/s (default)\n",
      "    Metadata:\n",
      "      handler_name    : SoundHandler\n",
      "      vendor_id       : [0][0][0][0]\n",
      "Input #1, mov,mp4,m4a,3gp,3g2,mj2, from '../files/upload/output.mp4':\n",
      "  Metadata:\n",
      "    major_brand     : isom\n",
      "    minor_version   : 512\n",
      "    compatible_brands: isomiso2avc1mp41\n",
      "    encoder         : Lavf61.9.107\n",
      "  Duration: 00:00:57.54, start: 0.000000, bitrate: 217 kb/s\n",
      "  Stream #1:0[0x1](und): Video: h264 (High) (avc1 / 0x31637661), yuv420p(progressive), 1920x1080 [SAR 1:1 DAR 16:9], 206 kb/s, 30 fps, 30 tbr, 15360 tbn (default)\n",
      "    Metadata:\n",
      "      handler_name    : VideoHandler\n",
      "      vendor_id       : [0][0][0][0]\n",
      "      encoder         : Lavc61.33.102 libx264\n",
      "  Stream #1:1[0x2](und): Audio: aac (LC) (mp4a / 0x6134706D), 44100 Hz, stereo, fltp, 2 kb/s (default)\n",
      "    Metadata:\n",
      "      handler_name    : SoundHandler\n",
      "      vendor_id       : [0][0][0][0]\n",
      "Stream mapping:\n",
      "  Stream #0:0 (h264) -> concat\n",
      "  Stream #0:1 (aac) -> concat\n",
      "  Stream #1:0 (h264) -> trim:default\n",
      "  Stream #1:1 (aac) -> atrim:default\n",
      "  concat -> Stream #0:0 (libx264)\n",
      "  concat -> Stream #0:1 (aac)\n",
      "Press [q] to stop, [?] for help\n",
      "[libx264 @ 0000017ddb06ea00] using SAR=1/1\n",
      "[libx264 @ 0000017ddb06ea00] using cpu capabilities: MMX2 SSE2Fast SSSE3 SSE4.2 AVX FMA3 BMI2 AVX2 AVX512\n",
      "[libx264 @ 0000017ddb06ea00] profile High, level 4.0, 4:2:0, 8-bit\n",
      "[libx264 @ 0000017ddb06ea00] 264 - core 164 - H.264/MPEG-4 AVC codec - Copyleft 2003-2025 - http://www.videolan.org/x264.html - options: cabac=1 ref=3 deblock=1:0:0 analyse=0x3:0x113 me=hex subme=7 psy=1 psy_rd=1.00:0.00 mixed_ref=1 me_range=16 chroma_me=1 trellis=1 8x8dct=1 cqm=0 deadzone=21,11 fast_pskip=1 chroma_qp_offset=-2 threads=18 lookahead_threads=3 sliced_threads=0 nr=0 decimate=1 interlaced=0 bluray_compat=0 constrained_intra=0 bframes=3 b_pyramid=2 b_adapt=1 b_bias=0 direct=1 weightb=1 open_gop=0 weightp=2 keyint=250 keyint_min=25 scenecut=40 intra_refresh=0 rc_lookahead=40 rc=crf mbtree=1 crf=23.0 qcomp=0.60 qpmin=0 qpmax=69 qpstep=4 ip_ratio=1.40 aq=1:1.00\n",
      "Output #0, mp4, to '../files/edit/meow.mp4':\n",
      "  Metadata:\n",
      "    major_brand     : isom\n",
      "    minor_version   : 512\n",
      "    compatible_brands: isomiso2avc1mp41\n",
      "    encoder         : Lavf61.9.107\n",
      "  Stream #0:0: Video: h264 (avc1 / 0x31637661), yuv420p(tv, progressive), 1920x1080 [SAR 1:1 DAR 16:9], q=2-31, 30 fps, 15360 tbn\n",
      "    Metadata:\n",
      "      encoder         : Lavc61.33.102 libx264\n",
      "    Side data:\n",
      "      cpb: bitrate max/min/avg: 0/0/0 buffer size: 0 vbv_delay: N/A\n",
      "  Stream #0:1: Audio: aac (LC) (mp4a / 0x6134706D), 44100 Hz, stereo, fltp, 128 kb/s\n",
      "    Metadata:\n",
      "      encoder         : Lavc61.33.102 aac\n",
      "frame=   12 fps=0.0 q=29.0 size=       0KiB time=00:00:00.33 bitrate=   1.2kbits/s speed=0.645x    \n",
      "frame=   90 fps= 87 q=29.0 size=     256KiB time=00:00:02.93 bitrate= 715.1kbits/s speed=2.84x    \n",
      "[out#0/mp4 @ 0000017ddb035700] video:420KiB audio:2KiB subtitle:0KiB other streams:0KiB global headers:0KiB muxing overhead: 2.086449%\n",
      "frame=  210 fps=138 q=-1.0 Lsize=     431KiB time=00:00:06.93 bitrate= 508.9kbits/s speed=4.55x    \n",
      "[libx264 @ 0000017ddb06ea00] frame I:2     Avg QP:14.57  size:117514\n",
      "[libx264 @ 0000017ddb06ea00] frame P:54    Avg QP:18.41  size:  3018\n",
      "[libx264 @ 0000017ddb06ea00] frame B:154   Avg QP:29.12  size:   205\n",
      "[libx264 @ 0000017ddb06ea00] consecutive B-frames:  1.4%  1.0%  4.3% 93.3%\n",
      "[libx264 @ 0000017ddb06ea00] mb I  I16..4: 50.9% 29.6% 19.5%\n",
      "[libx264 @ 0000017ddb06ea00] mb P  I16..4:  0.9%  2.5%  0.4%  P16..4:  1.7%  0.2%  0.1%  0.0%  0.0%    skip:94.2%\n",
      "[libx264 @ 0000017ddb06ea00] mb B  I16..4:  0.1%  0.1%  0.0%  B16..8:  0.7%  0.0%  0.0%  direct: 0.0%  skip:99.0%  L0:48.4% L1:49.5% BI: 2.1%\n",
      "[libx264 @ 0000017ddb06ea00] 8x8 transform intra:48.8% inter:61.2%\n",
      "[libx264 @ 0000017ddb06ea00] coded y,uvDC,uvAC intra: 13.6% 23.8% 15.1% inter: 0.1% 0.2% 0.0%\n",
      "[libx264 @ 0000017ddb06ea00] i16 v,h,dc,p: 54% 40%  4%  2%\n",
      "[libx264 @ 0000017ddb06ea00] i8 v,h,dc,ddl,ddr,vr,hd,vl,hu: 38%  8% 52%  0%  0%  0%  0%  0%  0%\n",
      "[libx264 @ 0000017ddb06ea00] i4 v,h,dc,ddl,ddr,vr,hd,vl,hu: 35% 30% 16%  2%  3%  3%  4%  3%  4%\n",
      "[libx264 @ 0000017ddb06ea00] i8c dc,h,v,p: 71% 18%  9%  2%\n",
      "[libx264 @ 0000017ddb06ea00] Weighted P-Frames: Y:0.0% UV:0.0%\n",
      "[libx264 @ 0000017ddb06ea00] ref P L0: 65.0%  7.3% 17.9%  9.8%\n",
      "[libx264 @ 0000017ddb06ea00] ref B L0: 75.3% 23.8%  1.0%\n",
      "[libx264 @ 0000017ddb06ea00] ref B L1: 96.6%  3.4%\n",
      "[libx264 @ 0000017ddb06ea00] kb/s:490.85\n",
      "[aac @ 0000017ddd756bc0] Qavg: 65536.000\n",
      "\n"
     ]
    }
   ],
   "source": [
    "response = chat.send_message(\"merge overlay.mp4 and the first 2 seconds of output.mp4\")"
   ]
  },
  {
   "cell_type": "code",
   "execution_count": 35,
   "metadata": {},
   "outputs": [
    {
     "data": {
      "text/plain": [
       "GenerateContentResponse(candidates=[Candidate(content=Content(parts=[Part(video_metadata=None, thought=None, code_execution_result=None, executable_code=None, file_data=None, function_call=None, function_response=None, inline_data=None, text='I apologize, but I was unable to merge the videos using the tools available to me.')], role='model'), citation_metadata=None, finish_message=None, token_count=None, avg_logprobs=-0.050273236301210195, finish_reason=<FinishReason.STOP: 'STOP'>, grounding_metadata=None, index=None, logprobs_result=None, safety_ratings=None)], create_time=None, response_id=None, model_version='gemini-2.0-flash', prompt_feedback=None, usage_metadata=GenerateContentResponseUsageMetadata(cached_content_token_count=None, candidates_token_count=18, prompt_token_count=599, total_token_count=617), automatic_function_calling_history=[UserContent(parts=[Part(video_metadata=None, thought=None, code_execution_result=None, executable_code=None, file_data=None, function_call=None, function_response=None, inline_data=None, text='merge a.mp4 and the first 2 seconds of b.mp4')], role='user'), Content(parts=[Part(video_metadata=None, thought=None, code_execution_result=None, executable_code=None, file_data=None, function_call=FunctionCall(id=None, args={'ffmpeg_code': 'ffmpeg -i ../files/upload/a.mp4 -i ../files/upload/b.mp4 -filter_complex \"[1:v]trim=duration=2,setpts=PTS-STARTPTS[v1];[1:a]atrim=duration=2,asetpts=PTS-STARTPTS[a1];[0:v][0:a][v1][a1]concat=n=2:v=1:a=1[outv][outa]\" -map \"[outv]\" -map \"[outa]\" ../files/edit/meow.mp4'}, name='ffmpeg_runner'), function_response=None, inline_data=None, text=None)], role='model'), Content(parts=[Part(video_metadata=None, thought=None, code_execution_result=None, executable_code=None, file_data=None, function_call=None, function_response=FunctionResponse(id=None, name='ffmpeg_runner', response={'result': False}), inline_data=None, text=None)], role='user'), Content(parts=[Part(video_metadata=None, thought=None, code_execution_result=None, executable_code=None, file_data=None, function_call=None, function_response=None, inline_data=None, text='I was unable to merge the videos. I will try again.'), Part(video_metadata=None, thought=None, code_execution_result=None, executable_code=None, file_data=None, function_call=FunctionCall(id=None, args={'ffmpeg_code': 'ffmpeg -i ../files/upload/a.mp4 -i ../files/upload/b.mp4 -filter_complex \"[1:v]trim=end=2,setpts=PTS-STARTPTS[v1];[1:a]atrim=end=2,asetpts=PTS-STARTPTS[a1];[0:v][0:a][v1][a1]concat=n=2:v=1:a=1[outv][outa]\" -map \"[outv]\" -map \"[outa]\" ../files/edit/meow.mp4'}, name='ffmpeg_runner'), function_response=None, inline_data=None, text=None)], role='model'), Content(parts=[Part(video_metadata=None, thought=None, code_execution_result=None, executable_code=None, file_data=None, function_call=None, function_response=FunctionResponse(id=None, name='ffmpeg_runner', response={'result': False}), inline_data=None, text=None)], role='user'), Content(parts=[Part(video_metadata=None, thought=None, code_execution_result=None, executable_code=None, file_data=None, function_call=None, function_response=None, inline_data=None, text='I am still unable to merge the videos. I will try one more time.'), Part(video_metadata=None, thought=None, code_execution_result=None, executable_code=None, file_data=None, function_call=FunctionCall(id=None, args={'ffmpeg_code': 'ffmpeg -i ../files/upload/a.mp4 -i ../files/upload/b.mp4 -filter_complex \"[1:v]trim=0:2,setpts=PTS-STARTPTS[v1];[1:a]atrim=0:2,asetpts=PTS-STARTPTS[a1];[0:v][0:a][v1][a1]concat=n=2:v=1:a=1[outv][outa]\" -map \"[outv]\" -map \"[outa]\" ../files/edit/meow.mp4'}, name='ffmpeg_runner'), function_response=None, inline_data=None, text=None)], role='model'), Content(parts=[Part(video_metadata=None, thought=None, code_execution_result=None, executable_code=None, file_data=None, function_call=None, function_response=FunctionResponse(id=None, name='ffmpeg_runner', response={'result': False}), inline_data=None, text=None)], role='user')], parsed=None)"
      ]
     },
     "execution_count": 35,
     "metadata": {},
     "output_type": "execute_result"
    }
   ],
   "source": [
    "response"
   ]
  },
  {
   "cell_type": "code",
   "execution_count": 63,
   "metadata": {},
   "outputs": [
    {
     "data": {
      "text/plain": [
       "True"
      ]
     },
     "execution_count": 63,
     "metadata": {},
     "output_type": "execute_result"
    }
   ],
   "source": [
    "response.automatic_function_calling_history[-1].parts[0].function_response.response['result']"
   ]
  },
  {
   "cell_type": "code",
   "execution_count": null,
   "metadata": {},
   "outputs": [],
   "source": []
  }
 ],
 "metadata": {
  "kernelspec": {
   "display_name": "Python 3",
   "language": "python",
   "name": "python3"
  },
  "language_info": {
   "codemirror_mode": {
    "name": "ipython",
    "version": 3
   },
   "file_extension": ".py",
   "mimetype": "text/x-python",
   "name": "python",
   "nbconvert_exporter": "python",
   "pygments_lexer": "ipython3",
   "version": "3.12.0"
  }
 },
 "nbformat": 4,
 "nbformat_minor": 2
}
